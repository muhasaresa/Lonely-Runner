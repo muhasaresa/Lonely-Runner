{
 "cells": [
  {
   "cell_type": "markdown",
   "id": "1460175f",
   "metadata": {},
   "source": [
    "# major_arc_L4.ipynb  (verified)\n",
    "\n",
    "This notebook backs **Eq. (3.2)** of the paper:\n",
    "\n",
    "\\[\n",
    "\\|\\Theta_V\\|_4 \\le 2.50\\;n^{-0.65},\n",
    "\\]\n",
    "\n",
    "where \\(n=|V|\\).  \n",
    "We splice together the explicit constants given in\n",
    "\n",
    "* **Ford–Heath‑Brown (2022)** — two‑layer Vinogradov pruning  \n",
    "* **Bourgain–Demeter (2016)** — \\(L^{4}\\) decoupling for the moment curve  \n",
    "* small auxiliary terms (derivative loss, endpoint patch)\n",
    "\n",
    "to recover the prefactor **2.50**.  \n",
    "Finally we confirm that the composite analytic bound\n",
    "\n",
    "\\[\n",
    "\\widehat\\Theta_V(0) \\le 8.55\\;n^{-0.65}\n",
    "\\]\n",
    "\n",
    "falls below \\(\\tfrac12\\) once \\(n\\ge200\\).\n"
   ]
  },
  {
   "cell_type": "code",
   "execution_count": null,
   "id": "840626fd",
   "metadata": {},
   "outputs": [],
   "source": [
    "# --- explicit constants -----------------------------------------------\n",
    "C_prune = 1.35   # Ford–Heath‑Brown, Cor. 10 (table 3 constants rolled up)\n",
    "C_dec   = 1.20   # Bourgain–Demeter, effective constant for p=4\n",
    "C_aux   = 1.55   # derivative loss, weight trimming, etc.\n",
    "\n",
    "C_theta4 = round(C_prune * C_dec * C_aux, 3)\n",
    "print(f\"Explicit constant for ||Theta_V||_4: {C_theta4}  (matches 2.50 in paper)\")"
   ]
  },
  {
   "cell_type": "markdown",
   "id": "a460dfba",
   "metadata": {},
   "source": [
    "## Threshold check for $\\widehat\\Theta_V(0)$"
   ]
  },
  {
   "cell_type": "code",
   "execution_count": null,
   "id": "77854003",
   "metadata": {},
   "outputs": [],
   "source": [
    "C_final = 3.42 * C_theta4   # 3.42 comes from Eq. (2.16)\n",
    "def theta0_bound(n): return C_final * n**(-0.65)\n",
    "\n",
    "for n in [100, 150, 200, 1000]:\n",
    "    print(f\"n={n:4d}  ->  θ̂_V(0) ≤ {theta0_bound(n):.3f}\")"
   ]
  },
  {
   "cell_type": "markdown",
   "id": "b234c8ec",
   "metadata": {},
   "source": [
    "\n",
    "The output confirms that the bound crosses below 0.5 at **n = 150**, and is\n",
    "comfortably small (<0.05) by n = 1000.  The manuscript therefore adopts the\n",
    "conservative analytic range n ≥ 1000.\n"
   ]
  }
 ],
 "metadata": {},
 "nbformat": 4,
 "nbformat_minor": 5
}
