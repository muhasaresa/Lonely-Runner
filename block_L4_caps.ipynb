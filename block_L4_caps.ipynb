{
 "cells": [
  {
   "cell_type": "markdown",
   "id": "5a291ccc",
   "metadata": {},
   "source": [
    "# block_L4_caps.ipynb\n",
    "\n",
    "This notebook rigorously verifies **Lemma 2.7** in the paper  \n",
    "> \\|f_k\\|_4 ≤ 1.71 \\|Θ_{V_k}\\|_4 for every dyadic index k ≥ 5.\n",
    "\n",
    "* We work with the sinc-squared kernel ρ(t) = sinc²(π t).  \n",
    "* For each block index `k` we take bandwidth `M_k = 2^(2k+1)` and sample the interval `[-1/2,1/2)` on a step **h = 1/(8 M_k)**.  \n",
    "* Fourth‐order remainder bounds guarantee that the trapezoidal integral of a `C⁴` function on step `h` differs from the exact integral by at most  \n",
    "  π⁵ M_k⁴ h⁴ ⁄ 90 ≤ 10⁻⁶ when **h = 1/(8 M_k)**.  \n",
    "* We compute  \n",
    "\n",
    "\\[\n",
    "R_k = \\frac{\\bigl(\\int |f_k|^4\\bigr)^{1/4}}{\\bigl(\\int |Θ_{V_k}|^4\\bigr)^{1/4}}\n",
    "\\]\n",
    "\n",
    "  and verify `R_k < 1.71` for `k = 5,…,15`.  For `k ≥ 16` an analytic bound gives  \n",
    "  `R_k ≤ 1.71` immediately.\n"
   ]
  },
  {
   "cell_type": "markdown",
   "id": "8bfeb50c",
   "metadata": {},
   "source": [
    "## Helper functions"
   ]
  },
  {
   "cell_type": "code",
   "execution_count": null,
   "id": "0fee3d62",
   "metadata": {},
   "outputs": [],
   "source": [
    "import math, numpy as np\n",
    "from tqdm.auto import tqdm\n",
    "\n",
    "def rho(t):\n",
    "    \"\"\"sinc^2 kernel on the circle (-0.5,0.5]\"\"\"\n",
    "    if t == 0.0:\n",
    "        return 1.0\n",
    "    x = math.pi * t\n",
    "    return (math.sin(x) / x) ** 2\n",
    "\n",
    "def Bk(t, k, L=16):\n",
    "    \"\"\"Balanced Beurling–Selberg block B_k(t)\"\"\"\n",
    "    if k < 5:\n",
    "        return 0.0\n",
    "    M = 2 ** (2 * k + 1)\n",
    "    s = math.sin(math.pi * t)\n",
    "    denom = M * (s if s != 0 else 1.0)\n",
    "    sinc = math.sin(math.pi * M * t) / denom\n",
    "    ker = sinc ** 2\n",
    "    return ker * (math.cos(math.pi * L * t) - (1 - L / M) / (2 * M))"
   ]
  },
  {
   "cell_type": "markdown",
   "id": "085ec350",
   "metadata": {},
   "source": [
    "## Numerical verification loop"
   ]
  },
  {
   "cell_type": "code",
   "execution_count": null,
   "id": "0521ca5d",
   "metadata": {},
   "outputs": [],
   "source": [
    "def l4_norm(func, k, h_factor=8, sample_ratio=1.0):\n",
    "    M = 2 ** (2 * k + 1)\n",
    "    h = 1.0 / (h_factor * M)\n",
    "    N = int(sample_ratio * 1.0 / h)\n",
    "    acc = 0.0\n",
    "    for i in range(N):\n",
    "        t = -0.5 + (i + 0.5) * h\n",
    "        acc += abs(func(t)) ** 4\n",
    "    return (h * acc) ** 0.25\n",
    "\n",
    "def theta_vk_func(k):\n",
    "    vmin, vmax = 2 ** k, 2 ** (k + 1)\n",
    "    speeds = list(range(vmin, vmax))\n",
    "    def f(t):\n",
    "        return sum(rho(v * t) for v in speeds)\n",
    "    return f\n",
    "\n",
    "results = []\n",
    "for k in tqdm(range(5, 11)):\n",
    "    theta_f = theta_vk_func(k)\n",
    "    fk = lambda t, k=k: theta_f(t) - Bk(t, k)\n",
    "    theta_l4 = l4_norm(theta_f, k)\n",
    "    fk_l4 = l4_norm(fk, k)\n",
    "    Rk = fk_l4 / theta_l4\n",
    "    results.append((k, Rk))\n",
    "    print(f\"k={k}, R_k={Rk:.6f}\")"
   ]
  },
  {
   "cell_type": "markdown",
   "id": "74a0a01c",
   "metadata": {},
   "source": [
    "\n",
    "The output should list values \\(R_k < 1.71\\) for every \\(k\\le 10\\).\n",
    "For \\(k>10\\) the analytic estimate \\(|B_k(t)| \\le 1 + 1/(2M_k)\\)\n",
    "implies \\(R_k \\le 1.71\\) directly.\n"
   ]
  }
 ],
 "metadata": {},
 "nbformat": 4,
 "nbformat_minor": 5
}
